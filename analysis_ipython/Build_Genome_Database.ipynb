{
 "cells": [
  {
   "cell_type": "code",
   "execution_count": 1,
   "metadata": {
    "collapsed": true,
    "deletable": true,
    "editable": true
   },
   "outputs": [],
   "source": [
    "import sys\n",
    "sys.path.append(\"..\")\n",
    "import pyparanoid\n",
    "import pyparanoid.genomedb as gdb"
   ]
  },
  {
   "cell_type": "code",
   "execution_count": null,
   "metadata": {
    "collapsed": false,
    "deletable": true,
    "editable": true
   },
   "outputs": [],
   "source": [
    "### Initialize a folder for the genomic data\n",
    "gdb.setupdirs(\"../test_genomedb\")"
   ]
  },
  {
   "cell_type": "code",
   "execution_count": null,
   "metadata": {
    "collapsed": false,
    "deletable": true,
    "editable": true
   },
   "outputs": [],
   "source": [
    "### The only argument needed is the path to the folder for genomic data\n",
    "### Only DNA and AA fasta files will be downloaded, as well as some metadata.\n",
    "\n",
    "### Default behavior is to download only 100 complete genomes from any taxa\n",
    "### The metadata file will be checked to prevent double downloading.\n",
    "genomes = gdb.download_Ensembl_files(\"../test_genomedb\")"
   ]
  },
  {
   "cell_type": "code",
   "execution_count": null,
   "metadata": {
    "collapsed": false,
    "deletable": true,
    "editable": true
   },
   "outputs": [],
   "source": [
    "### You can also download all of the genomes with certain names using the names parameter\n",
    "### This downloads anything with a matching genus or species name - spelling counts!\n",
    "\n",
    "### Also, set maxgen=None to download all genomes that fit your criteria\n",
    "### Also also, set complete=False to download draft genomes as well\n",
    "genomes = gdb.download_Ensembl_files(\"../test_genomedb\", maxgen=None, \\\n",
    "    names=\"syringae,stutzeri,fluorescens\", complete=False)"
   ]
  },
  {
   "cell_type": "code",
   "execution_count": 2,
   "metadata": {
    "collapsed": false,
    "deletable": true,
    "editable": true
   },
   "outputs": [
    {
     "name": "stdout",
     "output_type": "stream",
     "text": [
      "Current release of EnsemblBacteria: release-37\n",
      "\t10000 JSON records parsed.\n",
      "\t20000 JSON records parsed.\n",
      "\t30000 JSON records parsed.\n",
      "\t40000 JSON records parsed.\n",
      "\t44048 total JSON records parsed...\n",
      "284 found in test_genomedb.\n",
      "9 remaining to download.\n",
      "Downloading 9 genome files...\n"
     ]
    }
   ],
   "source": [
    "### alternatively you can use taxonomy IDs\n",
    "### consult http://bacteria.ensembl.org/species.html\n",
    "genomes = gdb.download_Ensembl_files(\"../test_genomedb\", maxgen=1000, \\\n",
    "    taxids=\"178900,178901\", complete=False)\n"
   ]
  },
  {
   "cell_type": "code",
   "execution_count": null,
   "metadata": {
    "collapsed": true,
    "deletable": true,
    "editable": true
   },
   "outputs": [],
   "source": []
  }
 ],
 "metadata": {
  "kernelspec": {
   "display_name": "Python 2",
   "language": "python",
   "name": "python2"
  },
  "language_info": {
   "codemirror_mode": {
    "name": "ipython",
    "version": 2
   },
   "file_extension": ".py",
   "mimetype": "text/x-python",
   "name": "python",
   "nbconvert_exporter": "python",
   "pygments_lexer": "ipython2",
   "version": "2.7.12"
  }
 },
 "nbformat": 4,
 "nbformat_minor": 2
}
